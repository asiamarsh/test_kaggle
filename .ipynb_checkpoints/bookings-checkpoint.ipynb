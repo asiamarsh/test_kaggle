{
 "cells": [
  {
   "cell_type": "code",
   "execution_count": 1,
   "id": "4e6e1938",
   "metadata": {},
   "outputs": [],
   "source": [
    "import pandas as pd"
   ]
  },
  {
   "cell_type": "code",
   "execution_count": 2,
   "id": "75aed87c",
   "metadata": {},
   "outputs": [
    {
     "data": {
      "text/html": [
       "<div>\n",
       "<style scoped>\n",
       "    .dataframe tbody tr th:only-of-type {\n",
       "        vertical-align: middle;\n",
       "    }\n",
       "\n",
       "    .dataframe tbody tr th {\n",
       "        vertical-align: top;\n",
       "    }\n",
       "\n",
       "    .dataframe thead th {\n",
       "        text-align: right;\n",
       "    }\n",
       "</style>\n",
       "<table border=\"1\" class=\"dataframe\">\n",
       "  <thead>\n",
       "    <tr style=\"text-align: right;\">\n",
       "      <th></th>\n",
       "      <th>Hotel</th>\n",
       "      <th>Is Canceled</th>\n",
       "      <th>Lead Time</th>\n",
       "      <th>arrival full date</th>\n",
       "      <th>Arrival Date Year</th>\n",
       "      <th>Arrival Date Month</th>\n",
       "      <th>Arrival Date Week Number</th>\n",
       "      <th>Arrival Date Day of Month</th>\n",
       "      <th>Stays in Weekend nights</th>\n",
       "      <th>Stays in week nights</th>\n",
       "      <th>...</th>\n",
       "      <th>Adults</th>\n",
       "      <th>Children</th>\n",
       "      <th>Babies</th>\n",
       "      <th>Meal</th>\n",
       "      <th>Country</th>\n",
       "      <th>Reserved Room Type</th>\n",
       "      <th>Assigned room type</th>\n",
       "      <th>customer type</th>\n",
       "      <th>Reservation Status</th>\n",
       "      <th>Reservation status_date</th>\n",
       "    </tr>\n",
       "  </thead>\n",
       "  <tbody>\n",
       "    <tr>\n",
       "      <th>0</th>\n",
       "      <td>Resort Hotel</td>\n",
       "      <td>0</td>\n",
       "      <td>342</td>\n",
       "      <td>2015-07-01</td>\n",
       "      <td>2015</td>\n",
       "      <td>July</td>\n",
       "      <td>27</td>\n",
       "      <td>1</td>\n",
       "      <td>0</td>\n",
       "      <td>0</td>\n",
       "      <td>...</td>\n",
       "      <td>2</td>\n",
       "      <td>0.0</td>\n",
       "      <td>0</td>\n",
       "      <td>BB</td>\n",
       "      <td>PRT</td>\n",
       "      <td>C</td>\n",
       "      <td>C</td>\n",
       "      <td>Transient</td>\n",
       "      <td>Check-Out</td>\n",
       "      <td>2015-07-01</td>\n",
       "    </tr>\n",
       "    <tr>\n",
       "      <th>1</th>\n",
       "      <td>Resort Hotel</td>\n",
       "      <td>0</td>\n",
       "      <td>737</td>\n",
       "      <td>2015-07-01</td>\n",
       "      <td>2015</td>\n",
       "      <td>July</td>\n",
       "      <td>27</td>\n",
       "      <td>1</td>\n",
       "      <td>0</td>\n",
       "      <td>0</td>\n",
       "      <td>...</td>\n",
       "      <td>2</td>\n",
       "      <td>0.0</td>\n",
       "      <td>0</td>\n",
       "      <td>BB</td>\n",
       "      <td>PRT</td>\n",
       "      <td>C</td>\n",
       "      <td>C</td>\n",
       "      <td>Transient</td>\n",
       "      <td>Check-Out</td>\n",
       "      <td>2015-07-01</td>\n",
       "    </tr>\n",
       "    <tr>\n",
       "      <th>2</th>\n",
       "      <td>Resort Hotel</td>\n",
       "      <td>0</td>\n",
       "      <td>7</td>\n",
       "      <td>2015-07-01</td>\n",
       "      <td>2015</td>\n",
       "      <td>July</td>\n",
       "      <td>27</td>\n",
       "      <td>1</td>\n",
       "      <td>0</td>\n",
       "      <td>1</td>\n",
       "      <td>...</td>\n",
       "      <td>1</td>\n",
       "      <td>0.0</td>\n",
       "      <td>0</td>\n",
       "      <td>BB</td>\n",
       "      <td>GBR</td>\n",
       "      <td>A</td>\n",
       "      <td>C</td>\n",
       "      <td>Transient</td>\n",
       "      <td>Check-Out</td>\n",
       "      <td>2015-07-02</td>\n",
       "    </tr>\n",
       "    <tr>\n",
       "      <th>3</th>\n",
       "      <td>Resort Hotel</td>\n",
       "      <td>0</td>\n",
       "      <td>13</td>\n",
       "      <td>2015-07-01</td>\n",
       "      <td>2015</td>\n",
       "      <td>July</td>\n",
       "      <td>27</td>\n",
       "      <td>1</td>\n",
       "      <td>0</td>\n",
       "      <td>1</td>\n",
       "      <td>...</td>\n",
       "      <td>1</td>\n",
       "      <td>0.0</td>\n",
       "      <td>0</td>\n",
       "      <td>BB</td>\n",
       "      <td>GBR</td>\n",
       "      <td>A</td>\n",
       "      <td>A</td>\n",
       "      <td>Transient</td>\n",
       "      <td>Check-Out</td>\n",
       "      <td>2015-07-02</td>\n",
       "    </tr>\n",
       "    <tr>\n",
       "      <th>4</th>\n",
       "      <td>Resort Hotel</td>\n",
       "      <td>0</td>\n",
       "      <td>14</td>\n",
       "      <td>2015-07-01</td>\n",
       "      <td>2015</td>\n",
       "      <td>July</td>\n",
       "      <td>27</td>\n",
       "      <td>1</td>\n",
       "      <td>0</td>\n",
       "      <td>2</td>\n",
       "      <td>...</td>\n",
       "      <td>2</td>\n",
       "      <td>0.0</td>\n",
       "      <td>0</td>\n",
       "      <td>BB</td>\n",
       "      <td>GBR</td>\n",
       "      <td>A</td>\n",
       "      <td>A</td>\n",
       "      <td>Transient</td>\n",
       "      <td>Check-Out</td>\n",
       "      <td>2015-07-03</td>\n",
       "    </tr>\n",
       "    <tr>\n",
       "      <th>...</th>\n",
       "      <td>...</td>\n",
       "      <td>...</td>\n",
       "      <td>...</td>\n",
       "      <td>...</td>\n",
       "      <td>...</td>\n",
       "      <td>...</td>\n",
       "      <td>...</td>\n",
       "      <td>...</td>\n",
       "      <td>...</td>\n",
       "      <td>...</td>\n",
       "      <td>...</td>\n",
       "      <td>...</td>\n",
       "      <td>...</td>\n",
       "      <td>...</td>\n",
       "      <td>...</td>\n",
       "      <td>...</td>\n",
       "      <td>...</td>\n",
       "      <td>...</td>\n",
       "      <td>...</td>\n",
       "      <td>...</td>\n",
       "      <td>...</td>\n",
       "    </tr>\n",
       "    <tr>\n",
       "      <th>119385</th>\n",
       "      <td>City Hotel</td>\n",
       "      <td>0</td>\n",
       "      <td>23</td>\n",
       "      <td>2017-08-30</td>\n",
       "      <td>2017</td>\n",
       "      <td>August</td>\n",
       "      <td>35</td>\n",
       "      <td>30</td>\n",
       "      <td>2</td>\n",
       "      <td>5</td>\n",
       "      <td>...</td>\n",
       "      <td>2</td>\n",
       "      <td>0.0</td>\n",
       "      <td>0</td>\n",
       "      <td>BB</td>\n",
       "      <td>BEL</td>\n",
       "      <td>A</td>\n",
       "      <td>A</td>\n",
       "      <td>Transient</td>\n",
       "      <td>Check-Out</td>\n",
       "      <td>2017-09-06</td>\n",
       "    </tr>\n",
       "    <tr>\n",
       "      <th>119386</th>\n",
       "      <td>City Hotel</td>\n",
       "      <td>0</td>\n",
       "      <td>102</td>\n",
       "      <td>2017-08-31</td>\n",
       "      <td>2017</td>\n",
       "      <td>August</td>\n",
       "      <td>35</td>\n",
       "      <td>31</td>\n",
       "      <td>2</td>\n",
       "      <td>5</td>\n",
       "      <td>...</td>\n",
       "      <td>3</td>\n",
       "      <td>0.0</td>\n",
       "      <td>0</td>\n",
       "      <td>BB</td>\n",
       "      <td>FRA</td>\n",
       "      <td>E</td>\n",
       "      <td>E</td>\n",
       "      <td>Transient</td>\n",
       "      <td>Check-Out</td>\n",
       "      <td>2017-09-07</td>\n",
       "    </tr>\n",
       "    <tr>\n",
       "      <th>119387</th>\n",
       "      <td>City Hotel</td>\n",
       "      <td>0</td>\n",
       "      <td>34</td>\n",
       "      <td>2017-08-31</td>\n",
       "      <td>2017</td>\n",
       "      <td>August</td>\n",
       "      <td>35</td>\n",
       "      <td>31</td>\n",
       "      <td>2</td>\n",
       "      <td>5</td>\n",
       "      <td>...</td>\n",
       "      <td>2</td>\n",
       "      <td>0.0</td>\n",
       "      <td>0</td>\n",
       "      <td>BB</td>\n",
       "      <td>DEU</td>\n",
       "      <td>D</td>\n",
       "      <td>D</td>\n",
       "      <td>Transient</td>\n",
       "      <td>Check-Out</td>\n",
       "      <td>2017-09-07</td>\n",
       "    </tr>\n",
       "    <tr>\n",
       "      <th>119388</th>\n",
       "      <td>City Hotel</td>\n",
       "      <td>0</td>\n",
       "      <td>109</td>\n",
       "      <td>2017-08-31</td>\n",
       "      <td>2017</td>\n",
       "      <td>August</td>\n",
       "      <td>35</td>\n",
       "      <td>31</td>\n",
       "      <td>2</td>\n",
       "      <td>5</td>\n",
       "      <td>...</td>\n",
       "      <td>2</td>\n",
       "      <td>0.0</td>\n",
       "      <td>0</td>\n",
       "      <td>BB</td>\n",
       "      <td>GBR</td>\n",
       "      <td>A</td>\n",
       "      <td>A</td>\n",
       "      <td>Transient</td>\n",
       "      <td>Check-Out</td>\n",
       "      <td>2017-09-07</td>\n",
       "    </tr>\n",
       "    <tr>\n",
       "      <th>119389</th>\n",
       "      <td>City Hotel</td>\n",
       "      <td>0</td>\n",
       "      <td>205</td>\n",
       "      <td>2017-08-29</td>\n",
       "      <td>2017</td>\n",
       "      <td>August</td>\n",
       "      <td>35</td>\n",
       "      <td>29</td>\n",
       "      <td>2</td>\n",
       "      <td>7</td>\n",
       "      <td>...</td>\n",
       "      <td>2</td>\n",
       "      <td>0.0</td>\n",
       "      <td>0</td>\n",
       "      <td>HB</td>\n",
       "      <td>DEU</td>\n",
       "      <td>A</td>\n",
       "      <td>A</td>\n",
       "      <td>Transient</td>\n",
       "      <td>Check-Out</td>\n",
       "      <td>2017-09-07</td>\n",
       "    </tr>\n",
       "  </tbody>\n",
       "</table>\n",
       "<p>119390 rows × 21 columns</p>\n",
       "</div>"
      ],
      "text/plain": [
       "               Hotel  Is Canceled  Lead Time arrival full date  \\\n",
       "0       Resort Hotel            0        342        2015-07-01   \n",
       "1       Resort Hotel            0        737        2015-07-01   \n",
       "2       Resort Hotel            0          7        2015-07-01   \n",
       "3       Resort Hotel            0         13        2015-07-01   \n",
       "4       Resort Hotel            0         14        2015-07-01   \n",
       "...              ...          ...        ...               ...   \n",
       "119385    City Hotel            0         23        2017-08-30   \n",
       "119386    City Hotel            0        102        2017-08-31   \n",
       "119387    City Hotel            0         34        2017-08-31   \n",
       "119388    City Hotel            0        109        2017-08-31   \n",
       "119389    City Hotel            0        205        2017-08-29   \n",
       "\n",
       "        Arrival Date Year Arrival Date Month  Arrival Date Week Number  \\\n",
       "0                    2015               July                        27   \n",
       "1                    2015               July                        27   \n",
       "2                    2015               July                        27   \n",
       "3                    2015               July                        27   \n",
       "4                    2015               July                        27   \n",
       "...                   ...                ...                       ...   \n",
       "119385               2017             August                        35   \n",
       "119386               2017             August                        35   \n",
       "119387               2017             August                        35   \n",
       "119388               2017             August                        35   \n",
       "119389               2017             August                        35   \n",
       "\n",
       "        Arrival Date Day of Month  Stays in Weekend nights  \\\n",
       "0                               1                        0   \n",
       "1                               1                        0   \n",
       "2                               1                        0   \n",
       "3                               1                        0   \n",
       "4                               1                        0   \n",
       "...                           ...                      ...   \n",
       "119385                         30                        2   \n",
       "119386                         31                        2   \n",
       "119387                         31                        2   \n",
       "119388                         31                        2   \n",
       "119389                         29                        2   \n",
       "\n",
       "        Stays in week nights  ...  Adults  Children  Babies  Meal Country  \\\n",
       "0                          0  ...       2       0.0       0    BB     PRT   \n",
       "1                          0  ...       2       0.0       0    BB     PRT   \n",
       "2                          1  ...       1       0.0       0    BB     GBR   \n",
       "3                          1  ...       1       0.0       0    BB     GBR   \n",
       "4                          2  ...       2       0.0       0    BB     GBR   \n",
       "...                      ...  ...     ...       ...     ...   ...     ...   \n",
       "119385                     5  ...       2       0.0       0    BB     BEL   \n",
       "119386                     5  ...       3       0.0       0    BB     FRA   \n",
       "119387                     5  ...       2       0.0       0    BB     DEU   \n",
       "119388                     5  ...       2       0.0       0    BB     GBR   \n",
       "119389                     7  ...       2       0.0       0    HB     DEU   \n",
       "\n",
       "       Reserved Room Type Assigned room type customer type Reservation Status  \\\n",
       "0                       C                  C     Transient          Check-Out   \n",
       "1                       C                  C     Transient          Check-Out   \n",
       "2                       A                  C     Transient          Check-Out   \n",
       "3                       A                  A     Transient          Check-Out   \n",
       "4                       A                  A     Transient          Check-Out   \n",
       "...                   ...                ...           ...                ...   \n",
       "119385                  A                  A     Transient          Check-Out   \n",
       "119386                  E                  E     Transient          Check-Out   \n",
       "119387                  D                  D     Transient          Check-Out   \n",
       "119388                  A                  A     Transient          Check-Out   \n",
       "119389                  A                  A     Transient          Check-Out   \n",
       "\n",
       "       Reservation status_date  \n",
       "0                   2015-07-01  \n",
       "1                   2015-07-01  \n",
       "2                   2015-07-02  \n",
       "3                   2015-07-02  \n",
       "4                   2015-07-03  \n",
       "...                        ...  \n",
       "119385              2017-09-06  \n",
       "119386              2017-09-07  \n",
       "119387              2017-09-07  \n",
       "119388              2017-09-07  \n",
       "119389              2017-09-07  \n",
       "\n",
       "[119390 rows x 21 columns]"
      ]
     },
     "execution_count": 2,
     "metadata": {},
     "output_type": "execute_result"
    }
   ],
   "source": [
    "bookings=pd.read_csv('./bookings.csv', sep=\";\")\n",
    "bookings"
   ]
  },
  {
   "cell_type": "code",
   "execution_count": 4,
   "id": "f68b15c4",
   "metadata": {},
   "outputs": [
    {
     "name": "stdout",
     "output_type": "stream",
     "text": [
      "<class 'pandas.core.frame.DataFrame'>\n",
      "RangeIndex: 119390 entries, 0 to 119389\n",
      "Data columns (total 21 columns):\n",
      " #   Column                     Non-Null Count   Dtype  \n",
      "---  ------                     --------------   -----  \n",
      " 0   Hotel                      119390 non-null  object \n",
      " 1   Is Canceled                119390 non-null  int64  \n",
      " 2   Lead Time                  119390 non-null  int64  \n",
      " 3   arrival full date          119390 non-null  object \n",
      " 4   Arrival Date Year          119390 non-null  int64  \n",
      " 5   Arrival Date Month         119390 non-null  object \n",
      " 6   Arrival Date Week Number   119390 non-null  int64  \n",
      " 7   Arrival Date Day of Month  119390 non-null  int64  \n",
      " 8   Stays in Weekend nights    119390 non-null  int64  \n",
      " 9   Stays in week nights       119390 non-null  int64  \n",
      " 10  stays total nights         119390 non-null  int64  \n",
      " 11  Adults                     119390 non-null  int64  \n",
      " 12  Children                   119386 non-null  float64\n",
      " 13  Babies                     119390 non-null  int64  \n",
      " 14  Meal                       119390 non-null  object \n",
      " 15  Country                    118902 non-null  object \n",
      " 16  Reserved Room Type         119390 non-null  object \n",
      " 17  Assigned room type         119390 non-null  object \n",
      " 18  customer type              119390 non-null  object \n",
      " 19  Reservation Status         119390 non-null  object \n",
      " 20  Reservation status_date    119390 non-null  object \n",
      "dtypes: float64(1), int64(10), object(10)\n",
      "memory usage: 19.1+ MB\n"
     ]
    }
   ],
   "source": [
    "bookings.info()"
   ]
  },
  {
   "cell_type": "code",
   "execution_count": 14,
   "id": "67c46412",
   "metadata": {},
   "outputs": [],
   "source": [
    "def replace_space_with_star(name):\n",
    "    new_name = name.replace(' ', '_')\n",
    "    return new_name"
   ]
  },
  {
   "cell_type": "code",
   "execution_count": 18,
   "id": "ef30b884",
   "metadata": {},
   "outputs": [],
   "source": [
    "def lower_space_with_star(name):\n",
    "    new_name = name.lower()\n",
    "    return new_name"
   ]
  },
  {
   "cell_type": "code",
   "execution_count": 22,
   "id": "2422f7b4",
   "metadata": {},
   "outputs": [],
   "source": [
    "bookings.rename(columns=lower_space_with_star, inplace=True)"
   ]
  },
  {
   "cell_type": "code",
   "execution_count": 23,
   "id": "6448a618",
   "metadata": {},
   "outputs": [],
   "source": [
    "bookings.rename(columns=replace_space_with_star, inplace=True)"
   ]
  },
  {
   "cell_type": "code",
   "execution_count": 26,
   "id": "0c3f8689",
   "metadata": {},
   "outputs": [
    {
     "data": {
      "text/plain": [
       "Index(['hotel', 'is_canceled', 'lead_time', 'arrival_full_date',\n",
       "       'arrival_date_year', 'arrival_date_month', 'arrival_date_week_number',\n",
       "       'arrival_date_day_of_month', 'stays_in_weekend_nights',\n",
       "       'stays_in_week_nights', 'stays_total_nights', 'adults', 'children',\n",
       "       'babies', 'meal', 'country', 'reserved_room_type', 'assigned_room_type',\n",
       "       'customer_type', 'reservation_status', 'reservation_status_date'],\n",
       "      dtype='object')"
      ]
     },
     "execution_count": 26,
     "metadata": {},
     "output_type": "execute_result"
    }
   ],
   "source": [
    "bookings.columns #Привели название колонок в удобный для работы вид"
   ]
  },
  {
   "cell_type": "code",
   "execution_count": 59,
   "id": "e72b5757",
   "metadata": {},
   "outputs": [
    {
     "data": {
      "text/plain": [
       "PRT    21071\n",
       "GBR     9676\n",
       "FRA     8481\n",
       "ESP     6391\n",
       "DEU     6069\n",
       "Name: country, dtype: int64"
      ]
     },
     "execution_count": 59,
     "metadata": {},
     "output_type": "execute_result"
    }
   ],
   "source": [
    "bookings.query(\"is_canceled == 0\") \\\n",
    "    .country \\\n",
    "    .value_counts()[:5]"
   ]
  },
  {
   "cell_type": "code",
   "execution_count": null,
   "id": "6c55130a",
   "metadata": {},
   "outputs": [],
   "source": [
    "#Топ 5 стран в которых наибольшее число успешных бронирований"
   ]
  },
  {
   "cell_type": "code",
   "execution_count": 65,
   "id": "bf41a3e1",
   "metadata": {},
   "outputs": [
    {
     "data": {
      "text/html": [
       "<div>\n",
       "<style scoped>\n",
       "    .dataframe tbody tr th:only-of-type {\n",
       "        vertical-align: middle;\n",
       "    }\n",
       "\n",
       "    .dataframe tbody tr th {\n",
       "        vertical-align: top;\n",
       "    }\n",
       "\n",
       "    .dataframe thead th {\n",
       "        text-align: right;\n",
       "    }\n",
       "</style>\n",
       "<table border=\"1\" class=\"dataframe\">\n",
       "  <thead>\n",
       "    <tr style=\"text-align: right;\">\n",
       "      <th></th>\n",
       "      <th>stays_total_nights</th>\n",
       "    </tr>\n",
       "    <tr>\n",
       "      <th>hotel</th>\n",
       "      <th></th>\n",
       "    </tr>\n",
       "  </thead>\n",
       "  <tbody>\n",
       "    <tr>\n",
       "      <th>City Hotel</th>\n",
       "      <td>2.98</td>\n",
       "    </tr>\n",
       "    <tr>\n",
       "      <th>Resort Hotel</th>\n",
       "      <td>4.32</td>\n",
       "    </tr>\n",
       "  </tbody>\n",
       "</table>\n",
       "</div>"
      ],
      "text/plain": [
       "              stays_total_nights\n",
       "hotel                           \n",
       "City Hotel                  2.98\n",
       "Resort Hotel                4.32"
      ]
     },
     "execution_count": 65,
     "metadata": {},
     "output_type": "execute_result"
    }
   ],
   "source": [
    "bookings.groupby('hotel').agg({'stays_total_nights':\"mean\"}).round(2)"
   ]
  },
  {
   "cell_type": "code",
   "execution_count": null,
   "id": "491f5de5",
   "metadata": {},
   "outputs": [],
   "source": [
    "#среднее колличество бронированных ночей для отелей 2-х типов"
   ]
  },
  {
   "cell_type": "code",
   "execution_count": 72,
   "id": "c8f3c875",
   "metadata": {},
   "outputs": [
    {
     "data": {
      "text/plain": [
       "True     104473\n",
       "False     14917\n",
       "dtype: int64"
      ]
     },
     "execution_count": 72,
     "metadata": {},
     "output_type": "execute_result"
    }
   ],
   "source": [
    "bookings_room=bookings['reserved_room_type']==bookings['assigned_room_type']\n",
    "bookings_room.value_counts()"
   ]
  },
  {
   "cell_type": "code",
   "execution_count": 73,
   "id": "452be9e1",
   "metadata": {},
   "outputs": [
    {
     "data": {
      "text/plain": [
       "14917"
      ]
     },
     "execution_count": 73,
     "metadata": {},
     "output_type": "execute_result"
    }
   ],
   "source": [
    "len(bookings.loc[bookings['reserved_room_type']!=bookings['assigned_room_type']])"
   ]
  },
  {
   "cell_type": "code",
   "execution_count": null,
   "id": "d22960fd",
   "metadata": {},
   "outputs": [],
   "source": [
    "# 14917 номеров гости получили, отличных от бронирования"
   ]
  },
  {
   "cell_type": "code",
   "execution_count": 74,
   "id": "5dba7e83",
   "metadata": {},
   "outputs": [
    {
     "data": {
      "text/plain": [
       "October      6203\n",
       "May          5478\n",
       "April        5428\n",
       "September    5394\n",
       "June         5292\n",
       "August       5063\n",
       "March        4824\n",
       "July         4572\n",
       "November     4454\n",
       "February     3891\n",
       "December     3860\n",
       "January      2248\n",
       "Name: arrival_date_month, dtype: int64"
      ]
     },
     "execution_count": 74,
     "metadata": {},
     "output_type": "execute_result"
    }
   ],
   "source": [
    "bookings.query(\"arrival_date_year == 2016\") \\\n",
    "    .arrival_date_month \\\n",
    "    .value_counts()"
   ]
  },
  {
   "cell_type": "code",
   "execution_count": 75,
   "id": "5f1f2bb7",
   "metadata": {},
   "outputs": [
    {
     "data": {
      "text/plain": [
       "May         6313\n",
       "April       5661\n",
       "June        5647\n",
       "July        5313\n",
       "March       4970\n",
       "August      4925\n",
       "February    4177\n",
       "January     3681\n",
       "Name: arrival_date_month, dtype: int64"
      ]
     },
     "execution_count": 75,
     "metadata": {},
     "output_type": "execute_result"
    }
   ],
   "source": [
    "bookings.query(\"arrival_date_year == 2017\") \\\n",
    "    .arrival_date_month \\\n",
    "    .value_counts()"
   ]
  },
  {
   "cell_type": "code",
   "execution_count": null,
   "id": "f4af0ebb",
   "metadata": {},
   "outputs": [],
   "source": [
    "#Колличетво броней по годам и месяцам"
   ]
  },
  {
   "cell_type": "code",
   "execution_count": 90,
   "id": "7717d895",
   "metadata": {},
   "outputs": [
    {
     "data": {
      "text/plain": [
       "arrival_date_year  arrival_date_month\n",
       "2015               August                1598\n",
       "                   December               973\n",
       "                   July                  1259\n",
       "                   November               486\n",
       "                   October               1732\n",
       "                   September             2094\n",
       "2016               April                 2061\n",
       "                   August                1825\n",
       "                   December              1398\n",
       "                   February              1337\n",
       "                   January                557\n",
       "                   July                  1499\n",
       "                   June                  2096\n",
       "                   March                 1477\n",
       "                   May                   1915\n",
       "                   November              1636\n",
       "                   October               2514\n",
       "                   September             2022\n",
       "2017               April                 2463\n",
       "                   August                1816\n",
       "                   February              1359\n",
       "                   January               1250\n",
       "                   July                  1984\n",
       "                   June                  2439\n",
       "                   March                 1672\n",
       "                   May                   2762\n",
       "Name: is_canceled, dtype: int64"
      ]
     },
     "execution_count": 90,
     "metadata": {},
     "output_type": "execute_result"
    }
   ],
   "source": [
    "bookings.groupby([\"arrival_date_year\", 'arrival_date_month']).is_canceled.sum()"
   ]
  },
  {
   "cell_type": "code",
   "execution_count": 91,
   "id": "a686d373",
   "metadata": {},
   "outputs": [
    {
     "data": {
      "text/plain": [
       "arrival_date_year  arrival_date_year  arrival_date_month\n",
       "2015               2015               September             2094\n",
       "2016               2016               October               2514\n",
       "2017               2017               May                   2762\n",
       "Name: is_canceled, dtype: int64"
      ]
     },
     "execution_count": 91,
     "metadata": {},
     "output_type": "execute_result"
    }
   ],
   "source": [
    "bookings.groupby([\"arrival_date_year\", 'arrival_date_month']).is_canceled.sum().groupby([\"arrival_date_year\"]).nlargest(1)"
   ]
  },
  {
   "cell_type": "code",
   "execution_count": null,
   "id": "0873c7c8",
   "metadata": {},
   "outputs": [],
   "source": [
    "# Колличество отменных ночей по годам и месяцам\n"
   ]
  },
  {
   "cell_type": "code",
   "execution_count": 142,
   "id": "2cd0cb67",
   "metadata": {},
   "outputs": [
    {
     "data": {
      "text/plain": [
       "adults      1.856403\n",
       "children    0.103890\n",
       "babies      0.007949\n",
       "dtype: float64"
      ]
     },
     "execution_count": 142,
     "metadata": {},
     "output_type": "execute_result"
    }
   ],
   "source": [
    "bookings[['adults', 'children', 'babies']].mean()"
   ]
  },
  {
   "cell_type": "code",
   "execution_count": 143,
   "id": "9f971c3e",
   "metadata": {},
   "outputs": [
    {
     "data": {
      "text/html": [
       "<div>\n",
       "<style scoped>\n",
       "    .dataframe tbody tr th:only-of-type {\n",
       "        vertical-align: middle;\n",
       "    }\n",
       "\n",
       "    .dataframe tbody tr th {\n",
       "        vertical-align: top;\n",
       "    }\n",
       "\n",
       "    .dataframe thead th {\n",
       "        text-align: right;\n",
       "    }\n",
       "</style>\n",
       "<table border=\"1\" class=\"dataframe\">\n",
       "  <thead>\n",
       "    <tr style=\"text-align: right;\">\n",
       "      <th></th>\n",
       "      <th>total_kids</th>\n",
       "    </tr>\n",
       "    <tr>\n",
       "      <th>hotel</th>\n",
       "      <th></th>\n",
       "    </tr>\n",
       "  </thead>\n",
       "  <tbody>\n",
       "    <tr>\n",
       "      <th>City Hotel</th>\n",
       "      <td>0.10</td>\n",
       "    </tr>\n",
       "    <tr>\n",
       "      <th>Resort Hotel</th>\n",
       "      <td>0.14</td>\n",
       "    </tr>\n",
       "  </tbody>\n",
       "</table>\n",
       "</div>"
      ],
      "text/plain": [
       "              total_kids\n",
       "hotel                   \n",
       "City Hotel          0.10\n",
       "Resort Hotel        0.14"
      ]
     },
     "execution_count": 143,
     "metadata": {},
     "output_type": "execute_result"
    }
   ],
   "source": [
    "bookings.groupby('hotel').agg({'total_kids':'mean'}).round(2)"
   ]
  },
  {
   "cell_type": "code",
   "execution_count": null,
   "id": "d12ea6f8",
   "metadata": {},
   "outputs": [],
   "source": [
    "#Resort hotel на 40% больше посещают с детьми"
   ]
  },
  {
   "cell_type": "code",
   "execution_count": 144,
   "id": "999ea49c",
   "metadata": {},
   "outputs": [],
   "source": [
    "def has_kids(x):\n",
    "    if x>0:\n",
    "        return True\n",
    "    else:\n",
    "        return False"
   ]
  },
  {
   "cell_type": "code",
   "execution_count": 145,
   "id": "47bcc12c",
   "metadata": {},
   "outputs": [],
   "source": [
    "bookings['has_kids']=bookings['total_kids'].apply(has_kids)"
   ]
  },
  {
   "cell_type": "code",
   "execution_count": 146,
   "id": "4a5d7fd9",
   "metadata": {},
   "outputs": [
    {
     "data": {
      "text/plain": [
       "has_kids  is_canceled\n",
       "False     0              69093\n",
       "          1              40965\n",
       "True      0               6073\n",
       "          1               3259\n",
       "dtype: int64"
      ]
     },
     "execution_count": 146,
     "metadata": {},
     "output_type": "execute_result"
    }
   ],
   "source": [
    "bookings_categories=bookings[['has_kids','is_canceled']].value_counts()\n",
    "bookings_categories"
   ]
  },
  {
   "cell_type": "code",
   "execution_count": 147,
   "id": "fc988229",
   "metadata": {},
   "outputs": [
    {
     "data": {
      "text/plain": [
       "has_kids\n",
       "False       110058\n",
       "True          9332\n",
       "dtype: int64"
      ]
     },
     "execution_count": 147,
     "metadata": {},
     "output_type": "execute_result"
    }
   ],
   "source": [
    "bookings_total=bookings[['has_kids']].value_counts()\n",
    "bookings_total"
   ]
  },
  {
   "cell_type": "code",
   "execution_count": 148,
   "id": "fec60065",
   "metadata": {},
   "outputs": [
    {
     "data": {
      "text/plain": [
       "has_kids  is_canceled\n",
       "False     0              62.778717\n",
       "          1              37.221283\n",
       "True      0              65.077154\n",
       "          1              34.922846\n",
       "dtype: float64"
      ]
     },
     "execution_count": 148,
     "metadata": {},
     "output_type": "execute_result"
    }
   ],
   "source": [
    "bookings_categories / bookings_total * 100"
   ]
  },
  {
   "cell_type": "code",
   "execution_count": null,
   "id": "ee92da98",
   "metadata": {},
   "outputs": [],
   "source": [
    "#Churn rate, коэффициент оттока без детей оказался выше, чем у людей с детьми и равен 37.22%"
   ]
  },
  {
   "cell_type": "code",
   "execution_count": null,
   "id": "d3c6a02c",
   "metadata": {},
   "outputs": [],
   "source": []
  },
  {
   "cell_type": "code",
   "execution_count": null,
   "id": "6eccf2fc",
   "metadata": {},
   "outputs": [],
   "source": []
  }
 ],
 "metadata": {
  "kernelspec": {
   "display_name": "Python 3 (ipykernel)",
   "language": "python",
   "name": "python3"
  },
  "language_info": {
   "codemirror_mode": {
    "name": "ipython",
    "version": 3
   },
   "file_extension": ".py",
   "mimetype": "text/x-python",
   "name": "python",
   "nbconvert_exporter": "python",
   "pygments_lexer": "ipython3",
   "version": "3.9.7"
  }
 },
 "nbformat": 4,
 "nbformat_minor": 5
}
